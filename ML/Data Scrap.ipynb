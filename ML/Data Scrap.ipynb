{
 "cells": [
  {
   "cell_type": "markdown",
   "id": "c0023d11",
   "metadata": {},
   "source": [
    "# Build dataset for Disease-symptoms analysis "
   ]
  },
  {
   "cell_type": "code",
   "execution_count": 1,
   "id": "1fa538f6",
   "metadata": {},
   "outputs": [],
   "source": [
    "import pickle\n",
    "import re\n",
    "from googlesearch import search\n",
    "import warnings\n",
    "warnings.filterwarnings(\"ignore\")\n",
    "import requests\n",
    "from bs4 import BeautifulSoup\n",
    "import time\n",
    "\n"
   ]
  },
  {
   "cell_type": "code",
   "execution_count": 2,
   "id": "8fb53560",
   "metadata": {},
   "outputs": [],
   "source": [
    "# Fetch disease list from 'www.nhp.gov.in'\n",
    "small_alpha = ['a', 'b', 'c', 'd', 'e', 'f', 'g', 'h', 'i', 'j', 'k', 'l', 'm', 'n', 'o', 'p', 'q', 'r', 's', 't', 'u', 'v', 'w', 'x', 'y', 'z']\n",
    "diseases=[]\n",
    "for c in small_alpha:\n",
    "    URL = 'https://www.nhp.gov.in/disease-a-z/'+c\n",
    "    time.sleep(1)\n",
    "    page = requests.get(URL,verify=False)\n",
    "\n",
    "    soup = BeautifulSoup(page.content, 'html5lib')\n",
    "    all_diseases = soup.find('div', class_='all-disease')\n",
    "\n",
    "    for dis in all_diseases.find_all('li'):\n",
    "        diseases.append(dis.get_text().strip())\n",
    "\n"
   ]
  },
  {
   "cell_type": "code",
   "execution_count": 3,
   "id": "7b7b5157",
   "metadata": {},
   "outputs": [
    {
     "data": {
      "text/plain": [
       "303"
      ]
     },
     "execution_count": 3,
     "metadata": {},
     "output_type": "execute_result"
    }
   ],
   "source": [
    "len(diseases)"
   ]
  },
  {
   "cell_type": "code",
   "execution_count": 7,
   "id": "47c38976",
   "metadata": {},
   "outputs": [],
   "source": [
    "pickle.dump(diseases,open(\"diseaseNames.pkl\",'wb'))"
   ]
  },
  {
   "cell_type": "code",
   "execution_count": 8,
   "id": "d910f735",
   "metadata": {},
   "outputs": [],
   "source": [
    "diseases2=pickle.load(open(\"diseaseNames.pkl\",'rb'))"
   ]
  },
  {
   "cell_type": "markdown",
   "id": "85c3a36e",
   "metadata": {},
   "source": [
    "# combine diseases and symptoms"
   ]
  },
  {
   "cell_type": "code",
   "execution_count": 38,
   "id": "ac5fcacb",
   "metadata": {},
   "outputs": [],
   "source": [
    "from tqdm import tqdm "
   ]
  },
  {
   "cell_type": "code",
   "execution_count": 21,
   "id": "beba12c9",
   "metadata": {},
   "outputs": [
    {
     "name": "stderr",
     "output_type": "stream",
     "text": [
      "100%|██████████| 303/303 [32:15<00:00,  6.39s/it]  \n"
     ]
    }
   ],
   "source": [
    "\n",
    "dis_symp={}\n",
    "\n",
    "for dis in tqdm(diseases2):\n",
    "    query = dis+' wikipedia'\n",
    " \n",
    "    for sr in search(query,tld=\"co.in\",stop=10,pause=0.5): \n",
    "       \n",
    "        match=re.search(r'wikipedia',sr)\n",
    "        filled = 0\n",
    "        if match:\n",
    "            wiki = requests.get(sr,verify=False)\n",
    "            soup = BeautifulSoup(wiki.content, 'html5lib')\n",
    "   \n",
    "            info_table = soup.find(\"table\", {\"class\":\"infobox\"})\n",
    "            if info_table is not None:\n",
    "             \n",
    "                for row in info_table.find_all(\"tr\"):\n",
    "                    data=row.find(\"th\",{\"scope\":\"row\"})\n",
    "                    if data is not None:\n",
    "                        data=data.get_text()\n",
    "                        if data==\"Symptoms\":\n",
    "                            symptom=str(row.find(\"td\"))\n",
    "                            symptom = symptom.replace('.','')\n",
    "                            symptom = symptom.replace(';',',')\n",
    "                            symptom=re.sub(r'<b.*?/b>:',',',symptom) # Remove bold text\n",
    "                            symptom=re.sub(r'<a.*?>','',symptom) # Remove hyperlink\n",
    "                            symptom=re.sub(r'</a>','',symptom) # Remove hyperlink\n",
    "                            symptom=re.sub(r'<[^<]+?>',', ',symptom) # All the tags\n",
    "                            symptom=re.sub(r'\\[.*\\]','',symptom) # Remove citation text\n",
    "                            symptom=' '.join([x for x in symptom.split() if x != ','])\n",
    "                            dis_symp[dis]=symptom\n",
    "                     \n",
    "                            filled = 1\n",
    "                            break\n",
    "        if filled==1:\n",
    "            break\n",
    "      \n"
   ]
  },
  {
   "cell_type": "code",
   "execution_count": 29,
   "id": "121d2e3d",
   "metadata": {},
   "outputs": [
    {
     "data": {
      "text/plain": [
       "202"
      ]
     },
     "execution_count": 29,
     "metadata": {},
     "output_type": "execute_result"
    }
   ],
   "source": [
    "len(dis_symp)"
   ]
  },
  {
   "cell_type": "code",
   "execution_count": 28,
   "id": "bbb7a77c",
   "metadata": {},
   "outputs": [],
   "source": [
    "#pickle.dump(dis_symp,open(\"Disease-symptoms.pkl\",'wb'))"
   ]
  },
  {
   "cell_type": "code",
   "execution_count": 35,
   "id": "26499db5",
   "metadata": {},
   "outputs": [
    {
     "name": "stdout",
     "output_type": "stream",
     "text": [
      "Anaemia during pregnancy (Maternal anemia)\n",
      "Crimean Congo haemorrhagic fever (CCHF)\n",
      "Congenital Capillary Haemangioma of Eyelid\n",
      "Cavernous Haemangioma of Eyelid\n",
      "Epidemic Keratoconjunctivitis\n",
      "Giant Papillary Conjunctivitis\n",
      "Hypertensive Retinopathy\n",
      "Hypertension (High Blood pressure)\n",
      "Human papillomavirus (HPV) infection and cervical cancer\n",
      "Low Vision and VisuaI Aids\n",
      "Long COVID/Post-COVID conditions\n",
      "Neonatal Conjunctivitis\n",
      "Orbital Haemangiopericytoma\n",
      "Post Menopausal Bleeding\n",
      "Post Polio Syndrome\n",
      "Perennial Allergic Conjunctivitis\n",
      "Pinguecula\n",
      "Seasonal Allergic Conjunctivitis\n",
      "Toxic Keratoconjunctivitis\n",
      "Thermal Injuries to the Eye\n",
      "Vernal Keratoconjunctivitis\n",
      "Whooping Cough/Pertussis\n"
     ]
    }
   ],
   "source": [
    "#remove diseases that have same symptoms\n",
    "\n",
    "temp_list=[]\n",
    "tmp_dict=dict()\n",
    "for key,value in dis_symp.items():\n",
    "  if value not in temp_list:\n",
    "    tmp_dict[key]=value\n",
    "    temp_list.append(value)\n",
    "  else:\n",
    "    print(key)"
   ]
  },
  {
   "cell_type": "code",
   "execution_count": 33,
   "id": "e11bbb90",
   "metadata": {},
   "outputs": [
    {
     "data": {
      "text/plain": [
       "180"
      ]
     },
     "execution_count": 33,
     "metadata": {},
     "output_type": "execute_result"
    }
   ],
   "source": [
    "len(tmp_dict)"
   ]
  },
  {
   "cell_type": "code",
   "execution_count": 36,
   "id": "4ba38713",
   "metadata": {},
   "outputs": [],
   "source": [
    "pickle.dump(tmp_dict,open(\"Disease-symptoms.pkl\",'wb'))"
   ]
  },
  {
   "cell_type": "code",
   "execution_count": null,
   "id": "199a716d",
   "metadata": {},
   "outputs": [],
   "source": []
  }
 ],
 "metadata": {
  "kernelspec": {
   "display_name": "Python 3",
   "language": "python",
   "name": "python3"
  },
  "language_info": {
   "codemirror_mode": {
    "name": "ipython",
    "version": 3
   },
   "file_extension": ".py",
   "mimetype": "text/x-python",
   "name": "python",
   "nbconvert_exporter": "python",
   "pygments_lexer": "ipython3",
   "version": "3.8.8"
  }
 },
 "nbformat": 4,
 "nbformat_minor": 5
}
